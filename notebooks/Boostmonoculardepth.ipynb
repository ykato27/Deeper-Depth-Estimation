{
  "nbformat": 4,
  "nbformat_minor": 0,
  "metadata": {
    "colab": {
      "name": "Boostmonoculardepth.ipynb",
      "provenance": [],
      "collapsed_sections": [],
      "include_colab_link": true
    },
    "kernelspec": {
      "name": "python3",
      "display_name": "Python 3"
    },
    "language_info": {
      "name": "python"
    },
    "accelerator": "GPU"
  },
  "cells": [
    {
      "cell_type": "markdown",
      "metadata": {
        "id": "view-in-github",
        "colab_type": "text"
      },
      "source": [
        "<a href=\"https://colab.research.google.com/github/ykato27/Deeper-Depth-Prediction/blob/main/Boostmonoculardepth.ipynb\" target=\"_parent\"><img src=\"https://colab.research.google.com/assets/colab-badge.svg\" alt=\"Open In Colab\"/></a>"
      ]
    },
    {
      "cell_type": "markdown",
      "metadata": {
        "id": "Vy3Sy5fxAApC"
      },
      "source": [
        "#Boosting Monocular Depth Estimation Models to High-Resolution via Content-Adaptive Multi-Resolution Merging\n",
        "\n",
        "This Colab Notebook contains an inference on the implementation from https://github.com/compphoto/BoostingMonocularDepth.\n",
        "\n",
        "It supports using [MiDas-v2][1] and [LeRes][2] but not [SGRnet][3].\n",
        "\n",
        "\n",
        "### Instructions\n",
        "0. Ensure using a GPU by setting \"Runtime/change runtime type\" to GPU\n",
        "1. Run code section 1\n",
        "2. Put your test images inside /content/inputs\n",
        "3. Run code section 2 :  it will download the needed model weights for both [MiDas-v2][1] and [LeRes][2]. \n",
        "\n",
        "5. Run code section 3\n",
        "4. Run code section \"Ours with MiDas\" or \"Ours with LeRes\" to generate the results \n",
        "3. Results will be generated in /content/outputs_midas or /content/outputs_leres folders. \n",
        "\n",
        "\n",
        "[1]: https://github.com/intel-isl/MiDaS/tree/v2\n",
        "[2]: https://github.com/aim-uofa/AdelaiDepth/tree/main/LeReS\n",
        "[3]: https://github.com/KexianHust/Structure-Guided-Ranking-Loss"
      ]
    },
    {
      "cell_type": "code",
      "metadata": {
        "id": "Q3HwE8ZNTBhh"
      },
      "source": [
        "# Code section 1\n",
        "\n",
        "!mkdir -p inputs\n",
        "!mkdir -p outputs_midas\n",
        "!mkdir -p outputs_leres"
      ],
      "execution_count": 1,
      "outputs": []
    },
    {
      "cell_type": "code",
      "metadata": {
        "id": "gUvYYzbz-D9k",
        "colab": {
          "base_uri": "https://localhost:8080/"
        },
        "outputId": "6e078173-acad-45c4-ad92-e93e7a058866"
      },
      "source": [
        "# Code section 2\n",
        "\n",
        "\n",
        "# Clone git repo\n",
        "!git clone https://github.com/compphoto/BoostingMonocularDepth.git\n",
        "\n",
        "# !wget https://sfu.ca/~yagiz/CVPR21/latest_net_G.pth\n",
        "!gdown https://drive.google.com/u/0/uc?id=1cU2y-kMbt0Sf00Ns4CN2oO9qPJ8BensP&export=download\n",
        "\n",
        "# Downloading merge model weights\n",
        "!mkdir -p /content/BoostingMonocularDepth/pix2pix/checkpoints/mergemodel/\n",
        "!mv latest_net_G.pth /content/BoostingMonocularDepth/pix2pix/checkpoints/mergemodel/\n",
        "\n",
        "# Downloading Midas weights\n",
        "!gdown https://drive.google.com/uc?id=1nqW_Hwj86kslfsXR7EnXpEWdO2csz1cC\n",
        "!mv model.pt /content/BoostingMonocularDepth/midas/\n",
        "\n",
        "# # Downloading LeRes weights\n",
        "!wget https://cloudstor.aarnet.edu.au/plus/s/lTIJF4vrvHCAI31/download\n",
        "!mv download /content/BoostingMonocularDepth/res101.pth"
      ],
      "execution_count": 2,
      "outputs": [
        {
          "output_type": "stream",
          "name": "stdout",
          "text": [
            "Cloning into 'BoostingMonocularDepth'...\n",
            "remote: Enumerating objects: 267, done.\u001b[K\n",
            "remote: Counting objects: 100% (267/267), done.\u001b[K\n",
            "remote: Compressing objects: 100% (204/204), done.\u001b[K\n",
            "remote: Total 267 (delta 99), reused 211 (delta 54), pack-reused 0\u001b[K\n",
            "Receiving objects: 100% (267/267), 52.57 MiB | 29.77 MiB/s, done.\n",
            "Resolving deltas: 100% (99/99), done.\n",
            "Downloading...\n",
            "From: https://drive.google.com/u/0/uc?id=1cU2y-kMbt0Sf00Ns4CN2oO9qPJ8BensP\n",
            "To: /content/latest_net_G.pth\n",
            "318MB [00:02, 155MB/s]\n",
            "Downloading...\n",
            "From: https://drive.google.com/uc?id=1nqW_Hwj86kslfsXR7EnXpEWdO2csz1cC\n",
            "To: /content/model.pt\n",
            "422MB [00:04, 101MB/s]\n",
            "--2021-09-18 10:21:54--  https://cloudstor.aarnet.edu.au/plus/s/lTIJF4vrvHCAI31/download\n",
            "Resolving cloudstor.aarnet.edu.au (cloudstor.aarnet.edu.au)... 202.158.207.20\n",
            "Connecting to cloudstor.aarnet.edu.au (cloudstor.aarnet.edu.au)|202.158.207.20|:443... connected.\n",
            "HTTP request sent, awaiting response... 200 OK\n",
            "Length: 530760553 (506M) [application/octet-stream]\n",
            "Saving to: ‘download’\n",
            "\n",
            "download            100%[===================>] 506.17M  15.8MB/s    in 34s     \n",
            "\n",
            "2021-09-18 10:22:29 (15.0 MB/s) - ‘download’ saved [530760553/530760553]\n",
            "\n"
          ]
        }
      ]
    },
    {
      "cell_type": "code",
      "metadata": {
        "id": "JbgaIYODQ3jd",
        "colab": {
          "base_uri": "https://localhost:8080/"
        },
        "outputId": "387810da-7782-4ae9-8df9-490e6b4ec920"
      },
      "source": [
        "# Code section 3\n",
        "%cd BoostingMonocularDepth/"
      ],
      "execution_count": 3,
      "outputs": [
        {
          "output_type": "stream",
          "name": "stdout",
          "text": [
            "/content/BoostingMonocularDepth\n"
          ]
        }
      ]
    },
    {
      "cell_type": "markdown",
      "metadata": {
        "id": "76wqxTAbVyeP"
      },
      "source": [
        "> After execution of Code section 3 you can run the following code sections multiple times to generate results but **do not run the previous code sections**. If you did so by mistake use \"Runtime/ Reset factory runtime\" and then start from step 0."
      ]
    },
    {
      "cell_type": "code",
      "metadata": {
        "id": "ZzcDgJfc9zrW",
        "colab": {
          "base_uri": "https://localhost:8080/"
        },
        "outputId": "7f773ed2-17e2-4c0e-b723-b2c951c12f2e"
      },
      "source": [
        "# Running the method using MiDas\n",
        "!python run.py --Final --data_dir /content/inputs --output_dir  /content/outputs_midas/ --depthNet 0"
      ],
      "execution_count": 4,
      "outputs": [
        {
          "output_type": "stream",
          "name": "stdout",
          "text": [
            "device: cuda\n",
            "Namespace(Final=True, R0=False, R20=False, colorize_results=False, data_dir='/content/inputs', depthNet=0, max_res=inf, net_receptive_field_size=None, output_dir='/content/outputs_midas/', output_resolution=1, pix2pixsize=1024, savepatchs=0, savewholeest=0)\n",
            "----------------- Options ---------------\n",
            "                    Final: True                          \t[default: False]\n",
            "                       R0: False                         \n",
            "                      R20: False                         \n",
            "             aspect_ratio: 1.0                           \n",
            "               batch_size: 1                             \n",
            "          checkpoints_dir: ./pix2pix/checkpoints         \n",
            "         colorize_results: False                         \n",
            "                crop_size: 672                           \n",
            "                 data_dir: /content/inputs               \t[default: None]\n",
            "                 dataroot: None                          \n",
            "             dataset_mode: depthmerge                    \n",
            "                 depthNet: 0                             \t[default: None]\n",
            "                direction: AtoB                          \n",
            "          display_winsize: 256                           \n",
            "                    epoch: latest                        \n",
            "                     eval: False                         \n",
            "            generatevideo: None                          \n",
            "                  gpu_ids: 0                             \n",
            "                init_gain: 0.02                          \n",
            "                init_type: normal                        \n",
            "                 input_nc: 2                             \n",
            "                  isTrain: False                         \t[default: None]\n",
            "                load_iter: 0                             \t[default: 0]\n",
            "                load_size: 672                           \n",
            "         max_dataset_size: 10000                         \n",
            "                  max_res: inf                           \n",
            "                    model: pix2pix4depth                 \n",
            "               n_layers_D: 3                             \n",
            "                     name: void                          \n",
            "                      ndf: 64                            \n",
            "                     netD: basic                         \n",
            "                     netG: unet_1024                     \n",
            " net_receptive_field_size: None                          \n",
            "                      ngf: 64                            \n",
            "               no_dropout: False                         \n",
            "                  no_flip: False                         \n",
            "                     norm: none                          \n",
            "                 num_test: 50                            \n",
            "              num_threads: 4                             \n",
            "               output_dir: /content/outputs_midas/       \t[default: None]\n",
            "                output_nc: 1                             \n",
            "        output_resolution: None                          \n",
            "                    phase: test                          \n",
            "              pix2pixsize: None                          \n",
            "               preprocess: resize_and_crop               \n",
            "                savecrops: None                          \n",
            "             savewholeest: None                          \n",
            "           serial_batches: False                         \n",
            "                   suffix:                               \n",
            "                  verbose: False                         \n",
            "----------------- End -------------------\n",
            "initialize network with normal\n",
            "loading the model from ./pix2pix/checkpoints/mergemodel/latest_net_G.pth\n",
            "Loading weights:  midas/model.pt\n",
            "Downloading: \"https://github.com/facebookresearch/WSL-Images/archive/master.zip\" to /root/.cache/torch/hub/master.zip\n",
            "Downloading: \"https://download.pytorch.org/models/ig_resnext101_32x8-c38310e5.pth\" to /root/.cache/torch/hub/checkpoints/ig_resnext101_32x8-c38310e5.pth\n",
            "100% 340M/340M [00:04<00:00, 82.4MB/s]\n",
            "start processing\n",
            "finished\n"
          ]
        }
      ]
    },
    {
      "cell_type": "code",
      "metadata": {
        "id": "FNfFz3e4Qxdr",
        "colab": {
          "base_uri": "https://localhost:8080/"
        },
        "outputId": "30be5f75-e295-4889-9cff-de5ebb8457b0"
      },
      "source": [
        "# Running the method using LeRes\n",
        "!python run.py --Final --data_dir /content/inputs --output_dir  /content/outputs_leres/ --depthNet 2"
      ],
      "execution_count": 5,
      "outputs": [
        {
          "output_type": "stream",
          "name": "stdout",
          "text": [
            "device: cuda\n",
            "Namespace(Final=True, R0=False, R20=False, colorize_results=False, data_dir='/content/inputs', depthNet=2, max_res=inf, net_receptive_field_size=None, output_dir='/content/outputs_leres/', output_resolution=1, pix2pixsize=1024, savepatchs=0, savewholeest=0)\n",
            "----------------- Options ---------------\n",
            "                    Final: True                          \t[default: False]\n",
            "                       R0: False                         \n",
            "                      R20: False                         \n",
            "             aspect_ratio: 1.0                           \n",
            "               batch_size: 1                             \n",
            "          checkpoints_dir: ./pix2pix/checkpoints         \n",
            "         colorize_results: False                         \n",
            "                crop_size: 672                           \n",
            "                 data_dir: /content/inputs               \t[default: None]\n",
            "                 dataroot: None                          \n",
            "             dataset_mode: depthmerge                    \n",
            "                 depthNet: 2                             \t[default: None]\n",
            "                direction: AtoB                          \n",
            "          display_winsize: 256                           \n",
            "                    epoch: latest                        \n",
            "                     eval: False                         \n",
            "            generatevideo: None                          \n",
            "                  gpu_ids: 0                             \n",
            "                init_gain: 0.02                          \n",
            "                init_type: normal                        \n",
            "                 input_nc: 2                             \n",
            "                  isTrain: False                         \t[default: None]\n",
            "                load_iter: 0                             \t[default: 0]\n",
            "                load_size: 672                           \n",
            "         max_dataset_size: 10000                         \n",
            "                  max_res: inf                           \n",
            "                    model: pix2pix4depth                 \n",
            "               n_layers_D: 3                             \n",
            "                     name: void                          \n",
            "                      ndf: 64                            \n",
            "                     netD: basic                         \n",
            "                     netG: unet_1024                     \n",
            " net_receptive_field_size: None                          \n",
            "                      ngf: 64                            \n",
            "               no_dropout: False                         \n",
            "                  no_flip: False                         \n",
            "                     norm: none                          \n",
            "                 num_test: 50                            \n",
            "              num_threads: 4                             \n",
            "               output_dir: /content/outputs_leres/       \t[default: None]\n",
            "                output_nc: 1                             \n",
            "        output_resolution: None                          \n",
            "                    phase: test                          \n",
            "              pix2pixsize: None                          \n",
            "               preprocess: resize_and_crop               \n",
            "                savecrops: None                          \n",
            "             savewholeest: None                          \n",
            "           serial_batches: False                         \n",
            "                   suffix:                               \n",
            "                  verbose: False                         \n",
            "----------------- End -------------------\n",
            "initialize network with normal\n",
            "loading the model from ./pix2pix/checkpoints/mergemodel/latest_net_G.pth\n",
            "start processing\n",
            "finished\n"
          ]
        }
      ]
    }
  ]
}